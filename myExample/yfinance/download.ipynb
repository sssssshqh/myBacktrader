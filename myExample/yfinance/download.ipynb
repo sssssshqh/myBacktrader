{
 "cells": [
  {
   "cell_type": "code",
   "execution_count": 19,
   "metadata": {},
   "outputs": [
    {
     "name": "stderr",
     "output_type": "stream",
     "text": [
      "515800.SS: 15m data not available for startTime=1685116800 and endTime=1717084800. The requested range must be within the last 60 days.\n"
     ]
    },
    {
     "data": {
      "text/html": [
       "<div>\n",
       "<style scoped>\n",
       "    .dataframe tbody tr th:only-of-type {\n",
       "        vertical-align: middle;\n",
       "    }\n",
       "\n",
       "    .dataframe tbody tr th {\n",
       "        vertical-align: top;\n",
       "    }\n",
       "\n",
       "    .dataframe thead th {\n",
       "        text-align: right;\n",
       "    }\n",
       "</style>\n",
       "<table border=\"1\" class=\"dataframe\">\n",
       "  <thead>\n",
       "    <tr style=\"text-align: right;\">\n",
       "      <th></th>\n",
       "      <th>Open</th>\n",
       "      <th>High</th>\n",
       "      <th>Low</th>\n",
       "      <th>Close</th>\n",
       "      <th>Adj Close</th>\n",
       "      <th>Volume</th>\n",
       "    </tr>\n",
       "    <tr>\n",
       "      <th>Date</th>\n",
       "      <th></th>\n",
       "      <th></th>\n",
       "      <th></th>\n",
       "      <th></th>\n",
       "      <th></th>\n",
       "      <th></th>\n",
       "    </tr>\n",
       "  </thead>\n",
       "  <tbody>\n",
       "  </tbody>\n",
       "</table>\n",
       "</div>"
      ],
      "text/plain": [
       "Empty DataFrame\n",
       "Columns: [Open, High, Low, Close, Adj Close, Volume]\n",
       "Index: []"
      ]
     },
     "execution_count": 19,
     "metadata": {},
     "output_type": "execute_result"
    }
   ],
   "source": [
    "import pandas as pd\n",
    "import yfinance as yf\n",
    "\n",
    "etf800= yf.Ticker(\"515800.SS\")\n",
    "\n",
    "# 1m: Only 7 days data are allowed to be fetched per request.\n",
    "\n",
    "# 1m data, The requested range must be within the last 30 days.\n",
    "# 5m data, The requested range must be within the last 60 days.\n",
    "# 15m data The requested range must be within the last 60 days.\n",
    "# 30m data The requested range must be within the last 60 days.\n",
    "# 1h data, The requested range must be within the last 730 days.\n",
    "# 1d data, no range restrictions\n",
    "\n",
    "etf800_historical_1m = etf800.history(start=\"2023-05-27\", end=\"2024-05-31\", interval=\"30m\")\n",
    "etf800_historical_1m\n"
   ]
  },
  {
   "cell_type": "code",
   "execution_count": 6,
   "metadata": {},
   "outputs": [
    {
     "name": "stderr",
     "output_type": "stream",
     "text": [
      "[*********************100%%**********************]  1 of 1 completed\n"
     ]
    }
   ],
   "source": [
    "etf800_1d = yf.download(\"515800.SS\", start=\"2020-06-04\", end=\"2023-06-04\", interval=\"1d\")\n",
    "etf800_1d.to_csv('../../yfDataFeed/515800.SS/515800_1d.csv')"
   ]
  },
  {
   "cell_type": "code",
   "execution_count": 18,
   "metadata": {},
   "outputs": [
    {
     "name": "stderr",
     "output_type": "stream",
     "text": [
      "[*********************100%%**********************]  1 of 1 completed\n",
      "[*********************100%%**********************]  1 of 1 completed\n",
      "[*********************100%%**********************]  1 of 1 completed\n",
      "[*********************100%%**********************]  1 of 1 completed\n",
      "[*********************100%%**********************]  1 of 1 completed\n"
     ]
    }
   ],
   "source": [
    "\n",
    "etf800_1m_1 = yf.download(\"515800.SS\", start=\"2024-05-06\", end=\"2024-05-13\", interval=\"1m\")\n",
    "etf800_1m_2 = yf.download(\"515800.SS\", start=\"2024-05-13\", end=\"2024-05-20\", interval=\"1m\")\n",
    "etf800_1m_3 = yf.download(\"515800.SS\", start=\"2024-05-20\", end=\"2024-05-27\", interval=\"1m\")\n",
    "etf800_1m_4 = yf.download(\"515800.SS\", start=\"2024-05-27\", end=\"2024-06-03\", interval=\"1m\")\n",
    "etf800_1m_5 = yf.download(\"515800.SS\", start=\"2024-06-03\", end=\"2024-06-09\", interval=\"1m\")\n",
    "\n",
    "etf800_1m = pd.concat([etf800_1m_1, etf800_1m_2, etf800_1m_3, etf800_1m_4, etf800_1m_5], ignore_index=False)\n",
    "etf800_1m.to_csv('../../yfDataFeed/515800.SS/515800_1m.csv')"
   ]
  },
  {
   "cell_type": "code",
   "execution_count": 22,
   "metadata": {},
   "outputs": [
    {
     "name": "stderr",
     "output_type": "stream",
     "text": [
      "[*********************100%%**********************]  1 of 1 completed"
     ]
    },
    {
     "name": "stderr",
     "output_type": "stream",
     "text": [
      "\n",
      "[*********************100%%**********************]  1 of 1 completed\n",
      "[*********************100%%**********************]  1 of 1 completed\n",
      "[*********************100%%**********************]  1 of 1 completed\n",
      "[*********************100%%**********************]  1 of 1 completed\n",
      "[*********************100%%**********************]  1 of 1 completed\n",
      "[*********************100%%**********************]  1 of 1 completed\n",
      "[*********************100%%**********************]  1 of 1 completed\n",
      "[*********************100%%**********************]  1 of 1 completed\n"
     ]
    }
   ],
   "source": [
    "\n",
    "etf800_5m_1 = yf.download(\"515800.SS\", start=\"2024-04-08\", end=\"2024-04-15\", interval=\"5m\")\n",
    "etf800_5m_2 = yf.download(\"515800.SS\", start=\"2024-04-15\", end=\"2024-04-22\", interval=\"5m\")\n",
    "etf800_5m_3 = yf.download(\"515800.SS\", start=\"2024-04-22\", end=\"2024-04-29\", interval=\"5m\")\n",
    "etf800_5m_4 = yf.download(\"515800.SS\", start=\"2024-04-29\", end=\"2024-05-06\", interval=\"5m\")\n",
    "\n",
    "etf800_5m_5 = yf.download(\"515800.SS\", start=\"2024-05-06\", end=\"2024-05-13\", interval=\"5m\")\n",
    "etf800_5m_6 = yf.download(\"515800.SS\", start=\"2024-05-13\", end=\"2024-05-20\", interval=\"5m\")\n",
    "etf800_5m_7 = yf.download(\"515800.SS\", start=\"2024-05-20\", end=\"2024-05-27\", interval=\"5m\")\n",
    "etf800_5m_8 = yf.download(\"515800.SS\", start=\"2024-05-27\", end=\"2024-06-03\", interval=\"5m\")\n",
    "etf800_5m_9 = yf.download(\"515800.SS\", start=\"2024-06-03\", end=\"2024-06-09\", interval=\"5m\")\n",
    "\n",
    "etf800_5m = pd.concat([etf800_5m_1, etf800_5m_2, etf800_5m_3, etf800_5m_4, etf800_5m_5, etf800_5m_6, etf800_5m_7, etf800_5m_8, etf800_5m_9], ignore_index=False)\n",
    "etf800_5m.to_csv('../../yfDataFeed/515800.SS/515800_5m.csv')"
   ]
  },
  {
   "cell_type": "code",
   "execution_count": 21,
   "metadata": {},
   "outputs": [
    {
     "name": "stderr",
     "output_type": "stream",
     "text": [
      "[*********************100%%**********************]  1 of 1 completed\n",
      "[*********************100%%**********************]  1 of 1 completed\n",
      "\n",
      "1 Failed download:\n",
      "['515800.SS']: YFChartError('%ticker%: 5m data not available for startTime=1711900800 and endTime=1712505600. The requested range must be within the last 60 days.')\n"
     ]
    },
    {
     "data": {
      "text/html": [
       "<div>\n",
       "<style scoped>\n",
       "    .dataframe tbody tr th:only-of-type {\n",
       "        vertical-align: middle;\n",
       "    }\n",
       "\n",
       "    .dataframe tbody tr th {\n",
       "        vertical-align: top;\n",
       "    }\n",
       "\n",
       "    .dataframe thead th {\n",
       "        text-align: right;\n",
       "    }\n",
       "</style>\n",
       "<table border=\"1\" class=\"dataframe\">\n",
       "  <thead>\n",
       "    <tr style=\"text-align: right;\">\n",
       "      <th></th>\n",
       "      <th>Open</th>\n",
       "      <th>High</th>\n",
       "      <th>Low</th>\n",
       "      <th>Close</th>\n",
       "      <th>Adj Close</th>\n",
       "      <th>Volume</th>\n",
       "    </tr>\n",
       "    <tr>\n",
       "      <th>Date</th>\n",
       "      <th></th>\n",
       "      <th></th>\n",
       "      <th></th>\n",
       "      <th></th>\n",
       "      <th></th>\n",
       "      <th></th>\n",
       "    </tr>\n",
       "  </thead>\n",
       "  <tbody>\n",
       "  </tbody>\n",
       "</table>\n",
       "</div>"
      ],
      "text/plain": [
       "Empty DataFrame\n",
       "Columns: [Open, High, Low, Close, Adj Close, Volume]\n",
       "Index: []"
      ]
     },
     "execution_count": 21,
     "metadata": {},
     "output_type": "execute_result"
    }
   ],
   "source": []
  }
 ],
 "metadata": {
  "kernelspec": {
   "display_name": "Python 3 (ipykernel)",
   "language": "python",
   "name": "python3"
  },
  "language_info": {
   "codemirror_mode": {
    "name": "ipython",
    "version": 3
   },
   "file_extension": ".py",
   "mimetype": "text/x-python",
   "name": "python",
   "nbconvert_exporter": "python",
   "pygments_lexer": "ipython3",
   "version": "3.10.11"
  }
 },
 "nbformat": 4,
 "nbformat_minor": 2
}
